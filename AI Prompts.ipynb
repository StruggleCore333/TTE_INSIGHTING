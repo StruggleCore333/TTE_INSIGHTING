{
 "cells": [
  {
   "cell_type": "markdown",
   "metadata": {},
   "source": [
    "# List of Prompts Used to Develop the Code\n",
    "\n",
    "Below is a list of prompts I used throughout the process to refine, debug, and enhance my existing Python code:\n",
    "\n",
    "1. \"I have an R script that has data and I need to convert it into Python while maintaining the same logic. Can you translate it?\"\n",
    "\n",
    "2. \"I have Python code that replicates an R script, but it has some errors. Can you help me debug it and ensure the results match?\"\n",
    "\n",
    "3. \"I'm getting a FileNotFoundError when trying to load my CSV. Can you check if there's an issue with how I specified the file path?\"\n",
    "\n",
    "4. \"I'm getting a `ModuleNotFoundError` for Jinja2 when running my script. Is this something my code needs, and how do I fix it?\"\n",
    "\n",
    "5. \"My script throws an 'index out of range' error when trying to access a DataFrame column. Can you check what’s causing this issue?\"\n",
    "\n",
    "6. \"I only need the raw data output from my script, not graphs. Can you modify my code to display just the data before and after applying different methods?\"\n",
    "\n",
    "7. \"One of my functions isn’t returning the expected values. Can you review it and see what’s wrong?\"\n",
    "\n",
    "8. \"Can you generate markdown explanations for my code so I can better document what each section does?\"\n",
    "\n",
    "9. \"I wrote an introduction for my analysis, but I think it could be improved. Can you refine it while keeping it aligned with my project?\"\n",
    "\n",
    "10. \"I have an R file with data processing steps, and I need to convert it into Python. Can you extract the logic from the R script and translate it into Python?\"\n",
    "\n",
    "11. \"I tried implementing a clustering method to visualize how different methods change the data, but I think there are issues. Can you check and improve my approach?\"\n",
    "\n",
    "12. \"Based on the output of my script, what insights can be drawn? I want to make sure my interpretation is correct.\"\n",
    "\n",
    "13. \"Can you generate graphs to visualize the changes in the dataset after applying different methods?\"\n",
    "\n",
    "14. \"My script takes too long to process the data. Are there ways to make it more efficient?\"\n",
    "\n",
    "15. \"I want to make sure the transformations applied to my data don’t introduce errors. Can you add checks for inconsistencies?\"\n",
    "\n",
    "16. \"Can you structure my code so that someone else can run it easily without issues?\"\n",
    "\n",
    "17. \"My output looks messy. Can you help me format the data frames properly for better readability?\"\n",
    "\n",
    "18. \"I applied multiple data transformation techniques, but I’m not sure how to compare their effects effectively. Can you help me analyze the differences?\"\n",
    "\n",
    "19. \"Can you summarize my results and highlight the most important patterns found in the data?\"\n",
    "\n",
    "Each of these prompts reflects the process of refining and debugging my initial implementation, ensuring accuracy and clarity while improving my overall analysis.\n"
   ]
  }
 ],
 "metadata": {
  "language_info": {
   "name": "python"
  }
 },
 "nbformat": 4,
 "nbformat_minor": 2
}
